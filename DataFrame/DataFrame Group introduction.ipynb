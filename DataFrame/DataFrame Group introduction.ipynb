{
 "cells": [
  {
   "cell_type": "code",
   "execution_count": 1,
   "metadata": {},
   "outputs": [],
   "source": [
    "import pandas as pd\n",
    "import numpy as np\n",
    "from datetime import datetime\n",
    "from datetime import timedelta\n",
    "import time"
   ]
  },
  {
   "cell_type": "code",
   "execution_count": 3,
   "metadata": {},
   "outputs": [
    {
     "data": {
      "text/html": [
       "<div>\n",
       "<style scoped>\n",
       "    .dataframe tbody tr th:only-of-type {\n",
       "        vertical-align: middle;\n",
       "    }\n",
       "\n",
       "    .dataframe tbody tr th {\n",
       "        vertical-align: top;\n",
       "    }\n",
       "\n",
       "    .dataframe thead th {\n",
       "        text-align: right;\n",
       "    }\n",
       "</style>\n",
       "<table border=\"1\" class=\"dataframe\">\n",
       "  <thead>\n",
       "    <tr style=\"text-align: right;\">\n",
       "      <th></th>\n",
       "      <th>Age</th>\n",
       "      <th>M/F</th>\n",
       "      <th>City</th>\n",
       "      <th>State</th>\n",
       "      <th>Country</th>\n",
       "      <th>Half</th>\n",
       "      <th>40K</th>\n",
       "      <th>Pace</th>\n",
       "      <th>TotalSeconds</th>\n",
       "      <th>HalfSeconds</th>\n",
       "    </tr>\n",
       "    <tr>\n",
       "      <th>Bib</th>\n",
       "      <th></th>\n",
       "      <th></th>\n",
       "      <th></th>\n",
       "      <th></th>\n",
       "      <th></th>\n",
       "      <th></th>\n",
       "      <th></th>\n",
       "      <th></th>\n",
       "      <th></th>\n",
       "      <th></th>\n",
       "    </tr>\n",
       "  </thead>\n",
       "  <tbody>\n",
       "    <tr>\n",
       "      <th>5</th>\n",
       "      <td>21</td>\n",
       "      <td>M</td>\n",
       "      <td>Addis Ababa</td>\n",
       "      <td>NaN</td>\n",
       "      <td>ETH</td>\n",
       "      <td>0 days 01:06:45</td>\n",
       "      <td>0 days 02:05:59</td>\n",
       "      <td>0:05:04</td>\n",
       "      <td>7559.0</td>\n",
       "      <td>4005.0</td>\n",
       "    </tr>\n",
       "    <tr>\n",
       "      <th>1</th>\n",
       "      <td>26</td>\n",
       "      <td>M</td>\n",
       "      <td>Ambo</td>\n",
       "      <td>NaN</td>\n",
       "      <td>ETH</td>\n",
       "      <td>0 days 01:06:46</td>\n",
       "      <td>0 days 02:05:59</td>\n",
       "      <td>0:05:06</td>\n",
       "      <td>7559.0</td>\n",
       "      <td>4006.0</td>\n",
       "    </tr>\n",
       "    <tr>\n",
       "      <th>6</th>\n",
       "      <td>31</td>\n",
       "      <td>M</td>\n",
       "      <td>Addis Ababa</td>\n",
       "      <td>NaN</td>\n",
       "      <td>ETH</td>\n",
       "      <td>0 days 01:06:44</td>\n",
       "      <td>0 days 02:06:47</td>\n",
       "      <td>0:05:07</td>\n",
       "      <td>7607.0</td>\n",
       "      <td>4004.0</td>\n",
       "    </tr>\n",
       "    <tr>\n",
       "      <th>11</th>\n",
       "      <td>33</td>\n",
       "      <td>M</td>\n",
       "      <td>Kitale</td>\n",
       "      <td>NaN</td>\n",
       "      <td>KEN</td>\n",
       "      <td>0 days 01:06:46</td>\n",
       "      <td>0 days 02:06:47</td>\n",
       "      <td>0:05:07</td>\n",
       "      <td>7607.0</td>\n",
       "      <td>4006.0</td>\n",
       "    </tr>\n",
       "    <tr>\n",
       "      <th>14</th>\n",
       "      <td>23</td>\n",
       "      <td>M</td>\n",
       "      <td>Eldoret</td>\n",
       "      <td>NaN</td>\n",
       "      <td>KEN</td>\n",
       "      <td>0 days 01:06:46</td>\n",
       "      <td>0 days 02:08:11</td>\n",
       "      <td>0:05:11</td>\n",
       "      <td>7691.0</td>\n",
       "      <td>4006.0</td>\n",
       "    </tr>\n",
       "  </tbody>\n",
       "</table>\n",
       "</div>"
      ],
      "text/plain": [
       "     Age M/F         City State Country            Half             40K  \\\n",
       "Bib                                                                       \n",
       "5     21   M  Addis Ababa   NaN     ETH 0 days 01:06:45 0 days 02:05:59   \n",
       "1     26   M         Ambo   NaN     ETH 0 days 01:06:46 0 days 02:05:59   \n",
       "6     31   M  Addis Ababa   NaN     ETH 0 days 01:06:44 0 days 02:06:47   \n",
       "11    33   M       Kitale   NaN     KEN 0 days 01:06:46 0 days 02:06:47   \n",
       "14    23   M      Eldoret   NaN     KEN 0 days 01:06:46 0 days 02:08:11   \n",
       "\n",
       "        Pace  TotalSeconds  HalfSeconds  \n",
       "Bib                                      \n",
       "5    0:05:04        7559.0       4005.0  \n",
       "1    0:05:06        7559.0       4006.0  \n",
       "6    0:05:07        7607.0       4004.0  \n",
       "11   0:05:07        7607.0       4006.0  \n",
       "14   0:05:11        7691.0       4006.0  "
      ]
     },
     "execution_count": 3,
     "metadata": {},
     "output_type": "execute_result"
    }
   ],
   "source": [
    "df = pd.read_csv('../data/marathon_results_2016.csv',\n",
    "                 index_col='Bib',\n",
    "                 usecols=['Bib','40K','Half','Pace','Age','M/F','Country','State','City'])\n",
    "\n",
    "df['40K'] = df['40K'].apply(pd.to_timedelta)\n",
    "df['Half'] = df['Half'].apply(pd.to_timedelta)\n",
    "\n",
    "df['TotalSeconds'] = df['40K'].apply(lambda x: timedelta.total_seconds(x))\n",
    "df['HalfSeconds'] = df['Half'].apply(lambda x: timedelta.total_seconds(x))\n",
    "\n",
    "df.head()"
   ]
  },
  {
   "cell_type": "code",
   "execution_count": 4,
   "metadata": {},
   "outputs": [
    {
     "name": "stdout",
     "output_type": "stream",
     "text": [
      "<class 'pandas.core.frame.DataFrame'>\n",
      "Index: 26630 entries, 5 to 28487\n",
      "Data columns (total 10 columns):\n",
      " #   Column        Non-Null Count  Dtype          \n",
      "---  ------        --------------  -----          \n",
      " 0   Age           26630 non-null  int64          \n",
      " 1   M/F           26630 non-null  object         \n",
      " 2   City          26629 non-null  object         \n",
      " 3   State         23783 non-null  object         \n",
      " 4   Country       26630 non-null  object         \n",
      " 5   Half          26630 non-null  timedelta64[ns]\n",
      " 6   40K           26630 non-null  timedelta64[ns]\n",
      " 7   Pace          26630 non-null  object         \n",
      " 8   TotalSeconds  26630 non-null  float64        \n",
      " 9   HalfSeconds   26630 non-null  float64        \n",
      "dtypes: float64(2), int64(1), object(5), timedelta64[ns](2)\n",
      "memory usage: 10.3 MB\n"
     ]
    }
   ],
   "source": [
    "df.info(memory_usage='deep')"
   ]
  },
  {
   "cell_type": "code",
   "execution_count": 5,
   "metadata": {},
   "outputs": [
    {
     "data": {
      "text/html": [
       "<div>\n",
       "<style scoped>\n",
       "    .dataframe tbody tr th:only-of-type {\n",
       "        vertical-align: middle;\n",
       "    }\n",
       "\n",
       "    .dataframe tbody tr th {\n",
       "        vertical-align: top;\n",
       "    }\n",
       "\n",
       "    .dataframe thead th {\n",
       "        text-align: right;\n",
       "    }\n",
       "</style>\n",
       "<table border=\"1\" class=\"dataframe\">\n",
       "  <thead>\n",
       "    <tr style=\"text-align: right;\">\n",
       "      <th></th>\n",
       "      <th>Age</th>\n",
       "      <th>Half</th>\n",
       "      <th>40K</th>\n",
       "      <th>TotalSeconds</th>\n",
       "      <th>HalfSeconds</th>\n",
       "    </tr>\n",
       "  </thead>\n",
       "  <tbody>\n",
       "    <tr>\n",
       "      <th>count</th>\n",
       "      <td>26630.000000</td>\n",
       "      <td>26630</td>\n",
       "      <td>26630</td>\n",
       "      <td>26630.000000</td>\n",
       "      <td>26630.000000</td>\n",
       "    </tr>\n",
       "    <tr>\n",
       "      <th>mean</th>\n",
       "      <td>42.514044</td>\n",
       "      <td>0 days 01:49:25.497070972</td>\n",
       "      <td>0 days 03:41:49.984829140</td>\n",
       "      <td>13309.984829</td>\n",
       "      <td>6565.497071</td>\n",
       "    </tr>\n",
       "    <tr>\n",
       "      <th>std</th>\n",
       "      <td>11.347955</td>\n",
       "      <td>0 days 00:18:06.943013477</td>\n",
       "      <td>0 days 00:39:13.302840884</td>\n",
       "      <td>2353.302841</td>\n",
       "      <td>1086.943013</td>\n",
       "    </tr>\n",
       "    <tr>\n",
       "      <th>min</th>\n",
       "      <td>18.000000</td>\n",
       "      <td>0 days 00:00:00</td>\n",
       "      <td>0 days 00:00:00</td>\n",
       "      <td>0.000000</td>\n",
       "      <td>0.000000</td>\n",
       "    </tr>\n",
       "    <tr>\n",
       "      <th>25%</th>\n",
       "      <td>34.000000</td>\n",
       "      <td>0 days 01:36:51</td>\n",
       "      <td>0 days 03:14:50.250000</td>\n",
       "      <td>11690.250000</td>\n",
       "      <td>5811.000000</td>\n",
       "    </tr>\n",
       "    <tr>\n",
       "      <th>50%</th>\n",
       "      <td>43.000000</td>\n",
       "      <td>0 days 01:47:00</td>\n",
       "      <td>0 days 03:35:13</td>\n",
       "      <td>12913.000000</td>\n",
       "      <td>6420.000000</td>\n",
       "    </tr>\n",
       "    <tr>\n",
       "      <th>75%</th>\n",
       "      <td>51.000000</td>\n",
       "      <td>0 days 01:58:32</td>\n",
       "      <td>0 days 04:02:20</td>\n",
       "      <td>14540.000000</td>\n",
       "      <td>7112.000000</td>\n",
       "    </tr>\n",
       "    <tr>\n",
       "      <th>max</th>\n",
       "      <td>83.000000</td>\n",
       "      <td>0 days 04:47:17</td>\n",
       "      <td>0 days 07:59:12</td>\n",
       "      <td>28752.000000</td>\n",
       "      <td>17237.000000</td>\n",
       "    </tr>\n",
       "  </tbody>\n",
       "</table>\n",
       "</div>"
      ],
      "text/plain": [
       "                Age                       Half                        40K  \\\n",
       "count  26630.000000                      26630                      26630   \n",
       "mean      42.514044  0 days 01:49:25.497070972  0 days 03:41:49.984829140   \n",
       "std       11.347955  0 days 00:18:06.943013477  0 days 00:39:13.302840884   \n",
       "min       18.000000            0 days 00:00:00            0 days 00:00:00   \n",
       "25%       34.000000            0 days 01:36:51     0 days 03:14:50.250000   \n",
       "50%       43.000000            0 days 01:47:00            0 days 03:35:13   \n",
       "75%       51.000000            0 days 01:58:32            0 days 04:02:20   \n",
       "max       83.000000            0 days 04:47:17            0 days 07:59:12   \n",
       "\n",
       "       TotalSeconds   HalfSeconds  \n",
       "count  26630.000000  26630.000000  \n",
       "mean   13309.984829   6565.497071  \n",
       "std     2353.302841   1086.943013  \n",
       "min        0.000000      0.000000  \n",
       "25%    11690.250000   5811.000000  \n",
       "50%    12913.000000   6420.000000  \n",
       "75%    14540.000000   7112.000000  \n",
       "max    28752.000000  17237.000000  "
      ]
     },
     "execution_count": 5,
     "metadata": {},
     "output_type": "execute_result"
    }
   ],
   "source": [
    "df.describe()"
   ]
  },
  {
   "cell_type": "code",
   "execution_count": 19,
   "metadata": {},
   "outputs": [
    {
     "data": {
      "text/plain": [
       "Boston           722\n",
       "New York         451\n",
       "Chicago          261\n",
       "Toronto          223\n",
       "San Francisco    197\n",
       "                ... \n",
       "Ayer's Cliff       1\n",
       "Deer River         1\n",
       "Ansonia            1\n",
       "Brugge             1\n",
       "Craig              1\n",
       "Name: City, Length: 5832, dtype: int64"
      ]
     },
     "execution_count": 19,
     "metadata": {},
     "output_type": "execute_result"
    }
   ],
   "source": [
    "df['City'].value_counts()"
   ]
  },
  {
   "cell_type": "code",
   "execution_count": 11,
   "metadata": {},
   "outputs": [
    {
     "data": {
      "text/plain": [
       "array(['Addis Ababa', 'Ambo', 'Kitale', ..., 'Justin', 'Rossmoor',\n",
       "       'Reedsburg'], dtype=object)"
      ]
     },
     "execution_count": 11,
     "metadata": {},
     "output_type": "execute_result"
    }
   ],
   "source": [
    "df['City'].unique()"
   ]
  },
  {
   "cell_type": "code",
   "execution_count": 12,
   "metadata": {},
   "outputs": [
    {
     "data": {
      "text/plain": [
       "5832"
      ]
     },
     "execution_count": 12,
     "metadata": {},
     "output_type": "execute_result"
    }
   ],
   "source": [
    "df['City'].nunique()"
   ]
  },
  {
   "cell_type": "code",
   "execution_count": 13,
   "metadata": {},
   "outputs": [],
   "source": [
    "cities = df['City'].unique()"
   ]
  },
  {
   "cell_type": "code",
   "execution_count": 14,
   "metadata": {},
   "outputs": [
    {
     "data": {
      "text/plain": [
       "array(['Addis Ababa', 'Ambo', 'Kitale', ..., 'Justin', 'Rossmoor',\n",
       "       'Reedsburg'], dtype=object)"
      ]
     },
     "execution_count": 14,
     "metadata": {},
     "output_type": "execute_result"
    }
   ],
   "source": [
    "cities"
   ]
  },
  {
   "cell_type": "code",
   "execution_count": 15,
   "metadata": {},
   "outputs": [],
   "source": [
    "groups = {}"
   ]
  },
  {
   "cell_type": "code",
   "execution_count": 20,
   "metadata": {},
   "outputs": [],
   "source": [
    "for city in cities:\n",
    "    tmp_df = df.loc[df[\"City\"] == city]\n",
    "    groups[city] = tmp_df"
   ]
  },
  {
   "cell_type": "code",
   "execution_count": null,
   "metadata": {},
   "outputs": [],
   "source": [
    "groups"
   ]
  },
  {
   "cell_type": "code",
   "execution_count": null,
   "metadata": {},
   "outputs": [],
   "source": []
  }
 ],
 "metadata": {
  "kernelspec": {
   "display_name": "Python 3",
   "language": "python",
   "name": "python3"
  },
  "language_info": {
   "codemirror_mode": {
    "name": "ipython",
    "version": 3
   },
   "file_extension": ".py",
   "mimetype": "text/x-python",
   "name": "python",
   "nbconvert_exporter": "python",
   "pygments_lexer": "ipython3",
   "version": "3.7.6"
  }
 },
 "nbformat": 4,
 "nbformat_minor": 4
}
