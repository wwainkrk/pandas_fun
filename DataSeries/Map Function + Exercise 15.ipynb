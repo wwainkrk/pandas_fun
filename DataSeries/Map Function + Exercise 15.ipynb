{
 "cells": [
  {
   "cell_type": "code",
   "execution_count": 1,
   "metadata": {},
   "outputs": [],
   "source": [
    "import pandas as pd\n",
    "import random as rd"
   ]
  },
  {
   "cell_type": "code",
   "execution_count": 2,
   "metadata": {},
   "outputs": [],
   "source": [
    "python_express = {'PYT001': 'Airbus 320', 'PYT002': 'Boeing 737', 'PYT003': 'Airbus 321'}"
   ]
  },
  {
   "cell_type": "code",
   "execution_count": 6,
   "metadata": {},
   "outputs": [
    {
     "data": {
      "text/plain": [
       "dict_values(['Airbus 320', 'Boeing 737', 'Airbus 321'])"
      ]
     },
     "execution_count": 6,
     "metadata": {},
     "output_type": "execute_result"
    }
   ],
   "source": [
    "python_express.values()"
   ]
  },
  {
   "cell_type": "code",
   "execution_count": 7,
   "metadata": {},
   "outputs": [],
   "source": [
    "aircrafts = pd.Series(python_express.values(), python_express.keys())"
   ]
  },
  {
   "cell_type": "code",
   "execution_count": 8,
   "metadata": {},
   "outputs": [],
   "source": [
    "flightsList = []"
   ]
  },
  {
   "cell_type": "code",
   "execution_count": 10,
   "metadata": {},
   "outputs": [],
   "source": [
    "for i in range(100):\n",
    "    flightsList.append(rd.choice(aircrafts.index))"
   ]
  },
  {
   "cell_type": "code",
   "execution_count": 11,
   "metadata": {
    "collapsed": true
   },
   "outputs": [
    {
     "data": {
      "text/plain": [
       "['PYT001',\n",
       " 'PYT002',\n",
       " 'PYT002',\n",
       " 'PYT001',\n",
       " 'PYT001',\n",
       " 'PYT003',\n",
       " 'PYT002',\n",
       " 'PYT001',\n",
       " 'PYT003',\n",
       " 'PYT003',\n",
       " 'PYT002',\n",
       " 'PYT001',\n",
       " 'PYT002',\n",
       " 'PYT001',\n",
       " 'PYT003',\n",
       " 'PYT001',\n",
       " 'PYT002',\n",
       " 'PYT003',\n",
       " 'PYT001',\n",
       " 'PYT003',\n",
       " 'PYT002',\n",
       " 'PYT003',\n",
       " 'PYT002',\n",
       " 'PYT003',\n",
       " 'PYT002',\n",
       " 'PYT001',\n",
       " 'PYT002',\n",
       " 'PYT003',\n",
       " 'PYT002',\n",
       " 'PYT003',\n",
       " 'PYT002',\n",
       " 'PYT002',\n",
       " 'PYT003',\n",
       " 'PYT003',\n",
       " 'PYT002',\n",
       " 'PYT003',\n",
       " 'PYT001',\n",
       " 'PYT001',\n",
       " 'PYT003',\n",
       " 'PYT002',\n",
       " 'PYT003',\n",
       " 'PYT003',\n",
       " 'PYT002',\n",
       " 'PYT001',\n",
       " 'PYT001',\n",
       " 'PYT001',\n",
       " 'PYT003',\n",
       " 'PYT002',\n",
       " 'PYT003',\n",
       " 'PYT003',\n",
       " 'PYT003',\n",
       " 'PYT002',\n",
       " 'PYT003',\n",
       " 'PYT001',\n",
       " 'PYT002',\n",
       " 'PYT003',\n",
       " 'PYT003',\n",
       " 'PYT001',\n",
       " 'PYT003',\n",
       " 'PYT003',\n",
       " 'PYT002',\n",
       " 'PYT003',\n",
       " 'PYT003',\n",
       " 'PYT001',\n",
       " 'PYT002',\n",
       " 'PYT001',\n",
       " 'PYT003',\n",
       " 'PYT002',\n",
       " 'PYT001',\n",
       " 'PYT002',\n",
       " 'PYT002',\n",
       " 'PYT002',\n",
       " 'PYT002',\n",
       " 'PYT003',\n",
       " 'PYT003',\n",
       " 'PYT003',\n",
       " 'PYT001',\n",
       " 'PYT002',\n",
       " 'PYT002',\n",
       " 'PYT001',\n",
       " 'PYT002',\n",
       " 'PYT002',\n",
       " 'PYT003',\n",
       " 'PYT002',\n",
       " 'PYT003',\n",
       " 'PYT002',\n",
       " 'PYT002',\n",
       " 'PYT001',\n",
       " 'PYT002',\n",
       " 'PYT002',\n",
       " 'PYT001',\n",
       " 'PYT001',\n",
       " 'PYT002',\n",
       " 'PYT003',\n",
       " 'PYT003',\n",
       " 'PYT003',\n",
       " 'PYT001',\n",
       " 'PYT002',\n",
       " 'PYT002',\n",
       " 'PYT002']"
      ]
     },
     "execution_count": 11,
     "metadata": {},
     "output_type": "execute_result"
    }
   ],
   "source": [
    "flightsList"
   ]
  },
  {
   "cell_type": "code",
   "execution_count": 12,
   "metadata": {},
   "outputs": [],
   "source": [
    "flights = pd.Series(flightsList)"
   ]
  },
  {
   "cell_type": "code",
   "execution_count": 13,
   "metadata": {
    "collapsed": true
   },
   "outputs": [
    {
     "data": {
      "text/plain": [
       "0     PYT001\n",
       "1     PYT002\n",
       "2     PYT002\n",
       "3     PYT001\n",
       "4     PYT001\n",
       "       ...  \n",
       "95    PYT003\n",
       "96    PYT001\n",
       "97    PYT002\n",
       "98    PYT002\n",
       "99    PYT002\n",
       "Length: 100, dtype: object"
      ]
     },
     "execution_count": 13,
     "metadata": {},
     "output_type": "execute_result"
    }
   ],
   "source": [
    "flights"
   ]
  },
  {
   "cell_type": "code",
   "execution_count": 14,
   "metadata": {},
   "outputs": [],
   "source": [
    "flights_aircrafts = flights.map(aircrafts)"
   ]
  },
  {
   "cell_type": "code",
   "execution_count": 15,
   "metadata": {},
   "outputs": [
    {
     "data": {
      "text/plain": [
       "0     Airbus 320\n",
       "1     Boeing 737\n",
       "2     Boeing 737\n",
       "3     Airbus 320\n",
       "4     Airbus 320\n",
       "         ...    \n",
       "95    Airbus 321\n",
       "96    Airbus 320\n",
       "97    Boeing 737\n",
       "98    Boeing 737\n",
       "99    Boeing 737\n",
       "Length: 100, dtype: object"
      ]
     },
     "execution_count": 15,
     "metadata": {},
     "output_type": "execute_result"
    }
   ],
   "source": [
    "flights_aircrafts"
   ]
  },
  {
   "cell_type": "code",
   "execution_count": null,
   "metadata": {},
   "outputs": [],
   "source": []
  }
 ],
 "metadata": {
  "kernelspec": {
   "display_name": "Python 3",
   "language": "python",
   "name": "python3"
  },
  "language_info": {
   "codemirror_mode": {
    "name": "ipython",
    "version": 3
   },
   "file_extension": ".py",
   "mimetype": "text/x-python",
   "name": "python",
   "nbconvert_exporter": "python",
   "pygments_lexer": "ipython3",
   "version": "3.7.6"
  }
 },
 "nbformat": 4,
 "nbformat_minor": 4
}
