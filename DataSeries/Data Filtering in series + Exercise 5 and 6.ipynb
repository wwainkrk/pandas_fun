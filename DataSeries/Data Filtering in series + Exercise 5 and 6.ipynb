{
 "cells": [
  {
   "cell_type": "code",
   "execution_count": 4,
   "metadata": {},
   "outputs": [],
   "source": [
    "import pandas as pd\n",
    "import numpy as np\n",
    "import matplotlib.pyplot as plt\n",
    "import math as math"
   ]
  },
  {
   "cell_type": "code",
   "execution_count": 6,
   "metadata": {},
   "outputs": [],
   "source": [
    "numbers = [1,2,3,11,12,13]"
   ]
  },
  {
   "cell_type": "code",
   "execution_count": 9,
   "metadata": {},
   "outputs": [],
   "source": [
    "numSeries = pd.Series(numbers)"
   ]
  },
  {
   "cell_type": "code",
   "execution_count": 10,
   "metadata": {},
   "outputs": [
    {
     "data": {
      "text/plain": [
       "0     1\n",
       "1     2\n",
       "2     3\n",
       "3    11\n",
       "4    12\n",
       "5    13\n",
       "dtype: int64"
      ]
     },
     "execution_count": 10,
     "metadata": {},
     "output_type": "execute_result"
    }
   ],
   "source": [
    "numSeries"
   ]
  },
  {
   "cell_type": "code",
   "execution_count": 11,
   "metadata": {},
   "outputs": [
    {
     "data": {
      "text/plain": [
       "0    False\n",
       "1    False\n",
       "2    False\n",
       "3     True\n",
       "4     True\n",
       "5     True\n",
       "dtype: bool"
      ]
     },
     "execution_count": 11,
     "metadata": {},
     "output_type": "execute_result"
    }
   ],
   "source": [
    "numSeries > 10"
   ]
  },
  {
   "cell_type": "code",
   "execution_count": 16,
   "metadata": {},
   "outputs": [
    {
     "data": {
      "text/plain": [
       "0     NaN\n",
       "1     NaN\n",
       "2     NaN\n",
       "3    11.0\n",
       "4    12.0\n",
       "5    13.0\n",
       "dtype: float64"
      ]
     },
     "execution_count": 16,
     "metadata": {},
     "output_type": "execute_result"
    }
   ],
   "source": [
    "numSeries.where(numSeries > 10)"
   ]
  },
  {
   "cell_type": "code",
   "execution_count": 21,
   "metadata": {},
   "outputs": [
    {
     "data": {
      "text/plain": [
       "0    -1.0\n",
       "1    -1.0\n",
       "2    -1.0\n",
       "3    11.0\n",
       "4    12.0\n",
       "5    13.0\n",
       "dtype: float64"
      ]
     },
     "execution_count": 21,
     "metadata": {},
     "output_type": "execute_result"
    }
   ],
   "source": [
    "numSeries.where(numSeries > 10, other=-1)   # other as a parameter to define which value will\n",
    "                                            # be filled if condition won't be passed"
   ]
  },
  {
   "cell_type": "code",
   "execution_count": 22,
   "metadata": {},
   "outputs": [
    {
     "data": {
      "text/plain": [
       "3    11.0\n",
       "4    12.0\n",
       "5    13.0\n",
       "dtype: float64"
      ]
     },
     "execution_count": 22,
     "metadata": {},
     "output_type": "execute_result"
    }
   ],
   "source": [
    "numSeries = pd.Series(numbers)\n",
    "numSeries.where(numSeries > 10, inplace=True)    # inplace parameter to define that changes will be done on object, without creation a copy\n",
    "numSeries.dropna()"
   ]
  },
  {
   "cell_type": "code",
   "execution_count": 24,
   "metadata": {},
   "outputs": [
    {
     "data": {
      "text/plain": [
       "0     1\n",
       "1     2\n",
       "2     3\n",
       "3    11\n",
       "4    12\n",
       "5    13\n",
       "dtype: int64"
      ]
     },
     "execution_count": 24,
     "metadata": {},
     "output_type": "execute_result"
    }
   ],
   "source": [
    "numSeries = pd.Series(numbers)\n",
    "numSeries"
   ]
  },
  {
   "cell_type": "code",
   "execution_count": 26,
   "metadata": {},
   "outputs": [
    {
     "data": {
      "text/plain": [
       "1     2\n",
       "3    11\n",
       "5    13\n",
       "dtype: int64"
      ]
     },
     "execution_count": 26,
     "metadata": {},
     "output_type": "execute_result"
    }
   ],
   "source": [
    "numSeries.filter(items=[1,3,5])"
   ]
  },
  {
   "cell_type": "markdown",
   "metadata": {},
   "source": [
    "## Exercise 5"
   ]
  },
  {
   "cell_type": "code",
   "execution_count": 27,
   "metadata": {},
   "outputs": [],
   "source": [
    "age_ranges = ['6', '7-14', '15-17', '18-24', '25-39', '40-59', '60']\n",
    "accidents = [14, 334, 312, 5823, 9491, 7486, 4343]"
   ]
  },
  {
   "cell_type": "code",
   "execution_count": 31,
   "metadata": {},
   "outputs": [
    {
     "data": {
      "text/plain": [
       "6          14\n",
       "7-14      334\n",
       "15-17     312\n",
       "18-24    5823\n",
       "25-39    9491\n",
       "40-59    7486\n",
       "60       4343\n",
       "dtype: int64"
      ]
     },
     "execution_count": 31,
     "metadata": {},
     "output_type": "execute_result"
    }
   ],
   "source": [
    "incidents = pd.Series(accidents, age_ranges)\n",
    "incidents"
   ]
  },
  {
   "cell_type": "code",
   "execution_count": 37,
   "metadata": {},
   "outputs": [
    {
     "data": {
      "text/plain": [
       "18-24    5823.0\n",
       "25-39    9491.0\n",
       "40-59    7486.0\n",
       "60       4343.0\n",
       "dtype: float64"
      ]
     },
     "execution_count": 37,
     "metadata": {},
     "output_type": "execute_result"
    }
   ],
   "source": [
    "#incidents.where(incidents > 1000)\n",
    "incidents.where(incidents > 1000).dropna()"
   ]
  },
  {
   "cell_type": "code",
   "execution_count": 40,
   "metadata": {},
   "outputs": [
    {
     "data": {
      "text/plain": [
       "18-24    5823.0\n",
       "25-39    9491.0\n",
       "40-59    7486.0\n",
       "60       4343.0\n",
       "dtype: float64"
      ]
     },
     "execution_count": 40,
     "metadata": {},
     "output_type": "execute_result"
    }
   ],
   "source": [
    "incidents1000 = incidents.where(incidents > 1000).dropna()\n",
    "incidents1000"
   ]
  },
  {
   "cell_type": "code",
   "execution_count": 41,
   "metadata": {},
   "outputs": [
    {
     "data": {
      "text/plain": [
       "6          14\n",
       "7-14      334\n",
       "15-17     312\n",
       "18-24    5823\n",
       "25-39    9491\n",
       "40-59    7486\n",
       "60       4343\n",
       "dtype: int64"
      ]
     },
     "execution_count": 41,
     "metadata": {},
     "output_type": "execute_result"
    }
   ],
   "source": [
    "incidents"
   ]
  },
  {
   "cell_type": "code",
   "execution_count": 45,
   "metadata": {},
   "outputs": [
    {
     "data": {
      "text/plain": [
       "18-24    5823\n",
       "25-39    9491\n",
       "40-59    7486\n",
       "dtype: int64"
      ]
     },
     "execution_count": 45,
     "metadata": {},
     "output_type": "execute_result"
    }
   ],
   "source": [
    "incidents.filter(items=['18-24', '25-39', '40-59'])"
   ]
  },
  {
   "cell_type": "code",
   "execution_count": 50,
   "metadata": {},
   "outputs": [
    {
     "data": {
      "text/plain": [
       "6         14.0\n",
       "7-14     334.0\n",
       "15-17    312.0\n",
       "dtype: float64"
      ]
     },
     "execution_count": 50,
     "metadata": {},
     "output_type": "execute_result"
    }
   ],
   "source": [
    "incidents.where(incidents <= 1000, inplace=True)\n",
    "incidents.dropna(inplace=True)\n",
    "incidents"
   ]
  },
  {
   "cell_type": "markdown",
   "metadata": {},
   "source": [
    "## Best practices"
   ]
  },
  {
   "cell_type": "code",
   "execution_count": 51,
   "metadata": {},
   "outputs": [
    {
     "data": {
      "text/plain": [
       "0     1\n",
       "1     2\n",
       "2     3\n",
       "3    11\n",
       "4    12\n",
       "5    13\n",
       "dtype: int64"
      ]
     },
     "execution_count": 51,
     "metadata": {},
     "output_type": "execute_result"
    }
   ],
   "source": [
    "numSeries"
   ]
  },
  {
   "cell_type": "code",
   "execution_count": 56,
   "metadata": {},
   "outputs": [],
   "source": [
    "# numSeries.where(numSeries > 10 and numSeries % 2 == 1)\n",
    "# numSeries.where(numSeries > 10 % numSeries % 2 == 1)"
   ]
  },
  {
   "cell_type": "code",
   "execution_count": 58,
   "metadata": {},
   "outputs": [
    {
     "data": {
      "text/plain": [
       "0    False\n",
       "1    False\n",
       "2    False\n",
       "3     True\n",
       "4     True\n",
       "5     True\n",
       "dtype: bool"
      ]
     },
     "execution_count": 58,
     "metadata": {},
     "output_type": "execute_result"
    }
   ],
   "source": [
    "numSeriesGreater10 = numSeries > 10\n",
    "numSeriesGreater10"
   ]
  },
  {
   "cell_type": "code",
   "execution_count": 60,
   "metadata": {},
   "outputs": [
    {
     "data": {
      "text/plain": [
       "0     True\n",
       "1    False\n",
       "2     True\n",
       "3     True\n",
       "4    False\n",
       "5     True\n",
       "dtype: bool"
      ]
     },
     "execution_count": 60,
     "metadata": {},
     "output_type": "execute_result"
    }
   ],
   "source": [
    "numSeriesOdd = numSeries % 2 == 1\n",
    "numSeriesOdd"
   ]
  },
  {
   "cell_type": "code",
   "execution_count": 61,
   "metadata": {},
   "outputs": [
    {
     "data": {
      "text/plain": [
       "0     NaN\n",
       "1     NaN\n",
       "2     NaN\n",
       "3    11.0\n",
       "4     NaN\n",
       "5    13.0\n",
       "dtype: float64"
      ]
     },
     "execution_count": 61,
     "metadata": {},
     "output_type": "execute_result"
    }
   ],
   "source": [
    "numSeries.where(numSeriesGreater10 & numSeriesOdd)"
   ]
  },
  {
   "cell_type": "code",
   "execution_count": 62,
   "metadata": {},
   "outputs": [
    {
     "data": {
      "text/plain": [
       "3    11.0\n",
       "5    13.0\n",
       "dtype: float64"
      ]
     },
     "execution_count": 62,
     "metadata": {},
     "output_type": "execute_result"
    }
   ],
   "source": [
    "numSeries.where(numSeriesGreater10 & numSeriesOdd).dropna()"
   ]
  },
  {
   "cell_type": "code",
   "execution_count": 63,
   "metadata": {},
   "outputs": [
    {
     "data": {
      "text/plain": [
       "0    False\n",
       "1    False\n",
       "2     True\n",
       "3     True\n",
       "4     True\n",
       "5    False\n",
       "dtype: bool"
      ]
     },
     "execution_count": 63,
     "metadata": {},
     "output_type": "execute_result"
    }
   ],
   "source": [
    "numSeries.between(3,12)"
   ]
  },
  {
   "cell_type": "markdown",
   "metadata": {},
   "source": [
    "## Exercise 6"
   ]
  },
  {
   "cell_type": "code",
   "execution_count": 64,
   "metadata": {},
   "outputs": [],
   "source": [
    "nameList = ['Albania','Austria','Belarus','Belgium','Bulgaria','Croatia','Cyprus','Czech Republic','Denmark','Estonia','Finland','France','Germany','Greece','Hungary','Iceland','Ireland','Italy','Latvia','Lithuania','Luxembourg','Macedonia','Malta','Montenegro','Netherlands','Norway','Poland','Portugal','Romania','Russia','Serbia','Slovenia','Spain', 'Sweden','Switzerland','UnitedKingdom','Turkey','Ukraine']"
   ]
  },
  {
   "cell_type": "code",
   "execution_count": 65,
   "metadata": {},
   "outputs": [],
   "source": [
    "energy2010List = [1947,8347,3564,8369,4560,3814,4623,6348,6328,6506,16483,7736,7264,5318,3876,51440,5911,5494,3230,3471,16830,3521,4171,5420,7010,24891,3797,4959,2551,6410,4359,6521,5707,14934,8175,2498,3550,5701]"
   ]
  },
  {
   "cell_type": "code",
   "execution_count": 66,
   "metadata": {},
   "outputs": [],
   "source": [
    "energy2012List = [2118,8507,3698,7987,4762,3819,4057,6305,6039,6689,15687,7344,7270,5511,3919,53203,5665,5398,3588,3608,14696,3626,4761,5416,6871,23658,3899,4736,2604,6617,4387,6778,5573,14290,7886,2794,3641,5452]"
   ]
  },
  {
   "cell_type": "code",
   "execution_count": 71,
   "metadata": {},
   "outputs": [
    {
     "data": {
      "text/plain": [
       "0            Albania\n",
       "1            Austria\n",
       "2            Belarus\n",
       "3            Belgium\n",
       "4           Bulgaria\n",
       "5            Croatia\n",
       "6             Cyprus\n",
       "7     Czech Republic\n",
       "8            Denmark\n",
       "9            Estonia\n",
       "10           Finland\n",
       "11            France\n",
       "12           Germany\n",
       "13            Greece\n",
       "14           Hungary\n",
       "15           Iceland\n",
       "16           Ireland\n",
       "17             Italy\n",
       "18            Latvia\n",
       "19         Lithuania\n",
       "20        Luxembourg\n",
       "21         Macedonia\n",
       "22             Malta\n",
       "23        Montenegro\n",
       "24       Netherlands\n",
       "25            Norway\n",
       "26            Poland\n",
       "27          Portugal\n",
       "28           Romania\n",
       "29            Russia\n",
       "30            Serbia\n",
       "31          Slovenia\n",
       "32             Spain\n",
       "33            Sweden\n",
       "34       Switzerland\n",
       "35     UnitedKingdom\n",
       "36            Turkey\n",
       "37           Ukraine\n",
       "dtype: object"
      ]
     },
     "execution_count": 71,
     "metadata": {},
     "output_type": "execute_result"
    }
   ],
   "source": [
    "namesSeries = pd.Series(nameList)\n",
    "namesSeries"
   ]
  },
  {
   "cell_type": "code",
   "execution_count": 87,
   "metadata": {},
   "outputs": [
    {
     "data": {
      "text/plain": [
       "0      1947\n",
       "1      8347\n",
       "2      3564\n",
       "3      8369\n",
       "4      4560\n",
       "5      3814\n",
       "6      4623\n",
       "7      6348\n",
       "8      6328\n",
       "9      6506\n",
       "10    16483\n",
       "11     7736\n",
       "12     7264\n",
       "13     5318\n",
       "14     3876\n",
       "15    51440\n",
       "16     5911\n",
       "17     5494\n",
       "18     3230\n",
       "19     3471\n",
       "20    16830\n",
       "21     3521\n",
       "22     4171\n",
       "23     5420\n",
       "24     7010\n",
       "25    24891\n",
       "26     3797\n",
       "27     4959\n",
       "28     2551\n",
       "29     6410\n",
       "30     4359\n",
       "31     6521\n",
       "32     5707\n",
       "33    14934\n",
       "34     8175\n",
       "35     2498\n",
       "36     3550\n",
       "37     5701\n",
       "dtype: int64"
      ]
     },
     "execution_count": 87,
     "metadata": {},
     "output_type": "execute_result"
    }
   ],
   "source": [
    "energy2010Series = pd.Series(energy2010List)\n",
    "energy2010Series"
   ]
  },
  {
   "cell_type": "code",
   "execution_count": 75,
   "metadata": {},
   "outputs": [
    {
     "data": {
      "text/plain": [
       "0      2118\n",
       "1      8507\n",
       "2      3698\n",
       "3      7987\n",
       "4      4762\n",
       "5      3819\n",
       "6      4057\n",
       "7      6305\n",
       "8      6039\n",
       "9      6689\n",
       "10    15687\n",
       "11     7344\n",
       "12     7270\n",
       "13     5511\n",
       "14     3919\n",
       "15    53203\n",
       "16     5665\n",
       "17     5398\n",
       "18     3588\n",
       "19     3608\n",
       "20    14696\n",
       "21     3626\n",
       "22     4761\n",
       "23     5416\n",
       "24     6871\n",
       "25    23658\n",
       "26     3899\n",
       "27     4736\n",
       "28     2604\n",
       "29     6617\n",
       "30     4387\n",
       "31     6778\n",
       "32     5573\n",
       "33    14290\n",
       "34     7886\n",
       "35     2794\n",
       "36     3641\n",
       "37     5452\n",
       "dtype: int64"
      ]
     },
     "execution_count": 75,
     "metadata": {},
     "output_type": "execute_result"
    }
   ],
   "source": [
    "energy2012Series = pd.Series(energy2012List)\n",
    "energy2012Series"
   ]
  },
  {
   "cell_type": "code",
   "execution_count": 80,
   "metadata": {},
   "outputs": [
    {
     "data": {
      "text/plain": [
       "7779.8421052631575"
      ]
     },
     "execution_count": 80,
     "metadata": {},
     "output_type": "execute_result"
    }
   ],
   "source": [
    "mean2010 = energy2010Series.mean()\n",
    "mean2010"
   ]
  },
  {
   "cell_type": "code",
   "execution_count": 81,
   "metadata": {},
   "outputs": [
    {
     "data": {
      "text/plain": [
       "7706.815789473684"
      ]
     },
     "execution_count": 81,
     "metadata": {},
     "output_type": "execute_result"
    }
   ],
   "source": [
    "mean2012 = energy2012Series.mean()\n",
    "mean2012"
   ]
  },
  {
   "cell_type": "code",
   "execution_count": 93,
   "metadata": {},
   "outputs": [],
   "source": [
    "filterAboveMean2010 = energy2010Series > mean2010\n",
    "#filterAboveMean2010"
   ]
  },
  {
   "cell_type": "code",
   "execution_count": 90,
   "metadata": {},
   "outputs": [],
   "source": [
    "filterAboveMean2012 = energy2012Series > mean2012\n",
    "#filterAboveMean2012"
   ]
  },
  {
   "cell_type": "code",
   "execution_count": 95,
   "metadata": {},
   "outputs": [
    {
     "data": {
      "text/plain": [
       "1         Austria\n",
       "3         Belgium\n",
       "10        Finland\n",
       "15        Iceland\n",
       "20     Luxembourg\n",
       "25         Norway\n",
       "33         Sweden\n",
       "34    Switzerland\n",
       "dtype: object"
      ]
     },
     "execution_count": 95,
     "metadata": {},
     "output_type": "execute_result"
    }
   ],
   "source": [
    "namesSeries.where(filterAboveMean2010 & filterAboveMean2012).dropna()"
   ]
  },
  {
   "cell_type": "code",
   "execution_count": 96,
   "metadata": {},
   "outputs": [],
   "source": [
    "filterBelowMean2010 = energy2010Series < mean2010"
   ]
  },
  {
   "cell_type": "code",
   "execution_count": 98,
   "metadata": {},
   "outputs": [
    {
     "data": {
      "text/plain": [
       "Series([], dtype: object)"
      ]
     },
     "execution_count": 98,
     "metadata": {},
     "output_type": "execute_result"
    }
   ],
   "source": [
    "namesSeries.where(filterBelowMean2010 & filterAboveMean2012).dropna()"
   ]
  },
  {
   "cell_type": "code",
   "execution_count": null,
   "metadata": {},
   "outputs": [],
   "source": []
  }
 ],
 "metadata": {
  "kernelspec": {
   "display_name": "Python 3",
   "language": "python",
   "name": "python3"
  },
  "language_info": {
   "codemirror_mode": {
    "name": "ipython",
    "version": 3
   },
   "file_extension": ".py",
   "mimetype": "text/x-python",
   "name": "python",
   "nbconvert_exporter": "python",
   "pygments_lexer": "ipython3",
   "version": "3.7.6"
  }
 },
 "nbformat": 4,
 "nbformat_minor": 4
}
