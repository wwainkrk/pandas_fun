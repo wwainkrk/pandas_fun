{
 "cells": [
  {
   "cell_type": "markdown",
   "metadata": {},
   "source": [
    "\n",
    "# Most important libraries for beginners in Data Science and our Udemy Course:\n",
    "## Pandas\n",
    "![Logo Pandas](./images/pandas.png)\n",
    "**pandas** is a fast, powerful, flexible and easy to use open source data analysis and manipulation tool,\n",
    "built on top of the Python programming language. \n",
    "\n",
    "[More details](https://pandas.pydata.org/)\n",
    "\n",
    "## NumPy\n",
    "![Logo NumPy](./images/numpy.png)\n",
    "NumPy is the fundamental package for scientific computing with Python. It contains among other things:\n",
    "- a powerful N-dimensional array object\n",
    "- sophisticated (broadcasting) functions\n",
    "- tools for integrating C/C++ and Fortran code\n",
    "- useful linear algebra, Fourier transform, and random number capabilities\n",
    "\n",
    "[More details](https://numpy.org/)\n",
    "\n",
    "## Matplotlib\n",
    "![Logo Matplotlib](./images/matplotlib.png)\n",
    "\n",
    "Matplotlib is a comprehensive library for creating static, animated, and interactive visualizations in Python.\n",
    "\n",
    "Matplotlib makes easy things easy and hard things possible.\n",
    "\n",
    "1. Create\n",
    "    - Develop publication quality plots with just a few lines of code\n",
    "    - Use interactive figures that can zoom, pan, update...\n",
    "    \n",
    "\n",
    "2. Customize\n",
    "    - Take full control of line styles, font properties, axes properties...\n",
    "    - Export and embed to a number of file formats and interactive environments\n",
    "    \n",
    "\n",
    "3. Extend\n",
    "    - Explore tailored functionality provided by third party packages\n",
    "    - Learn more about Matplotlib through the many external learning resources\n",
    "\n",
    "[More details](https://matplotlib.org/)\n",
    "\n"
   ]
  },
  {
   "cell_type": "markdown",
   "metadata": {},
   "source": [
    "\n",
    "# Most important libraries for beginners in Data Science and our Udemy Course:\n",
    "## Pandas\n",
    "![Logo Pandas](./images/pandas.png)\n",
    "**pandas** is a fast, powerful, flexible and easy to use open source data analysis and manipulation tool,\n",
    "built on top of the Python programming language. \n",
    "\n",
    "[More details](https://pandas.pydata.org/)\n",
    "\n",
    "## NumPy\n",
    "![Logo NumPy](./images/numpy.png)\n",
    "NumPy is the fundamental package for scientific computing with Python. It contains among other things:\n",
    "- a powerful N-dimensional array object\n",
    "- sophisticated (broadcasting) functions\n",
    "- tools for integrating C/C++ and Fortran code\n",
    "- useful linear algebra, Fourier transform, and random number capabilities\n",
    "\n",
    "[More details](https://numpy.org/)\n",
    "\n",
    "## Matplotlib\n",
    "![Logo Matplotlib](./images/matplotlib.png)\n",
    "\n",
    "Matplotlib is a comprehensive library for creating static, animated, and interactive visualizations in Python.\n",
    "\n",
    "Matplotlib makes easy things easy and hard things possible.\n",
    "\n",
    "1. Create\n",
    "    - Develop publication quality plots with just a few lines of code\n",
    "    - Use interactive figures that can zoom, pan, update...\n",
    "    \n",
    "\n",
    "2. Customize\n",
    "    - Take full control of line styles, font properties, axes properties...\n",
    "    - Export and embed to a number of file formats and interactive environments\n",
    "    \n",
    "\n",
    "3. Extend\n",
    "    - Explore tailored functionality provided by third party packages\n",
    "    - Learn more about Matplotlib through the many external learning resources\n",
    "\n",
    "[More details](https://matplotlib.org/)\n",
    "\n"
   ]
  },
  {
   "cell_type": "code",
   "execution_count": null,
   "metadata": {},
   "outputs": [],
   "source": []
  },
  {
   "cell_type": "code",
   "execution_count": null,
   "metadata": {},
   "outputs": [],
   "source": []
  },
  {
   "cell_type": "code",
   "execution_count": null,
   "metadata": {},
   "outputs": [],
   "source": []
  },
  {
   "cell_type": "code",
   "execution_count": null,
   "metadata": {},
   "outputs": [],
   "source": []
  }
 ],
 "metadata": {
  "kernelspec": {
   "display_name": "Python 3",
   "language": "python",
   "name": "python3"
  },
  "language_info": {
   "codemirror_mode": {
    "name": "ipython",
    "version": 3
   },
   "file_extension": ".py",
   "mimetype": "text/x-python",
   "name": "python",
   "nbconvert_exporter": "python",
   "pygments_lexer": "ipython3",
   "version": "3.7.6"
  }
 },
 "nbformat": 4,
 "nbformat_minor": 4
}
